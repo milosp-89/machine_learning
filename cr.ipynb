{
 "cells": [
  {
   "cell_type": "markdown",
   "id": "41d7af88",
   "metadata": {},
   "source": [
    "## Complex regression \n",
    "## - multilinear regression model with more 2+ features"
   ]
  },
  {
   "cell_type": "code",
   "execution_count": 2,
   "id": "f413c871",
   "metadata": {},
   "outputs": [],
   "source": [
    "# main modules:\n",
    "import pandas as pd, numpy as np, seaborn as sns, matplotlib.pyplot as plt\n",
    "%matplotlib inline"
   ]
  },
  {
   "cell_type": "code",
   "execution_count": 3,
   "id": "8b43554e",
   "metadata": {},
   "outputs": [
    {
     "data": {
      "text/html": [
       "<div>\n",
       "<style scoped>\n",
       "    .dataframe tbody tr th:only-of-type {\n",
       "        vertical-align: middle;\n",
       "    }\n",
       "\n",
       "    .dataframe tbody tr th {\n",
       "        vertical-align: top;\n",
       "    }\n",
       "\n",
       "    .dataframe thead th {\n",
       "        text-align: right;\n",
       "    }\n",
       "</style>\n",
       "<table border=\"1\" class=\"dataframe\">\n",
       "  <thead>\n",
       "    <tr style=\"text-align: right;\">\n",
       "      <th></th>\n",
       "      <th>age</th>\n",
       "      <th>sex</th>\n",
       "      <th>bmi</th>\n",
       "      <th>children</th>\n",
       "      <th>smoker</th>\n",
       "      <th>region</th>\n",
       "      <th>charges</th>\n",
       "    </tr>\n",
       "  </thead>\n",
       "  <tbody>\n",
       "    <tr>\n",
       "      <th>0</th>\n",
       "      <td>19</td>\n",
       "      <td>female</td>\n",
       "      <td>27.900</td>\n",
       "      <td>0</td>\n",
       "      <td>yes</td>\n",
       "      <td>southwest</td>\n",
       "      <td>16884.92400</td>\n",
       "    </tr>\n",
       "    <tr>\n",
       "      <th>1</th>\n",
       "      <td>18</td>\n",
       "      <td>male</td>\n",
       "      <td>33.770</td>\n",
       "      <td>1</td>\n",
       "      <td>no</td>\n",
       "      <td>southeast</td>\n",
       "      <td>1725.55230</td>\n",
       "    </tr>\n",
       "    <tr>\n",
       "      <th>2</th>\n",
       "      <td>28</td>\n",
       "      <td>male</td>\n",
       "      <td>33.000</td>\n",
       "      <td>3</td>\n",
       "      <td>no</td>\n",
       "      <td>southeast</td>\n",
       "      <td>4449.46200</td>\n",
       "    </tr>\n",
       "    <tr>\n",
       "      <th>3</th>\n",
       "      <td>33</td>\n",
       "      <td>male</td>\n",
       "      <td>22.705</td>\n",
       "      <td>0</td>\n",
       "      <td>no</td>\n",
       "      <td>northwest</td>\n",
       "      <td>21984.47061</td>\n",
       "    </tr>\n",
       "    <tr>\n",
       "      <th>4</th>\n",
       "      <td>32</td>\n",
       "      <td>male</td>\n",
       "      <td>28.880</td>\n",
       "      <td>0</td>\n",
       "      <td>no</td>\n",
       "      <td>northwest</td>\n",
       "      <td>3866.85520</td>\n",
       "    </tr>\n",
       "  </tbody>\n",
       "</table>\n",
       "</div>"
      ],
      "text/plain": [
       "   age     sex     bmi  children smoker     region      charges\n",
       "0   19  female  27.900         0    yes  southwest  16884.92400\n",
       "1   18    male  33.770         1     no  southeast   1725.55230\n",
       "2   28    male  33.000         3     no  southeast   4449.46200\n",
       "3   33    male  22.705         0     no  northwest  21984.47061\n",
       "4   32    male  28.880         0     no  northwest   3866.85520"
      ]
     },
     "execution_count": 3,
     "metadata": {},
     "output_type": "execute_result"
    }
   ],
   "source": [
    "# read/load data:\n",
    "i = pd.read_csv(\"insurance.csv\")\n",
    "i.head()"
   ]
  },
  {
   "cell_type": "markdown",
   "id": "59116536",
   "metadata": {},
   "source": [
    "# explore data:"
   ]
  },
  {
   "cell_type": "code",
   "execution_count": 4,
   "id": "7cc146f7",
   "metadata": {},
   "outputs": [
    {
     "name": "stdout",
     "output_type": "stream",
     "text": [
      "<class 'pandas.core.frame.DataFrame'>\n",
      "RangeIndex: 1338 entries, 0 to 1337\n",
      "Data columns (total 7 columns):\n",
      " #   Column    Non-Null Count  Dtype  \n",
      "---  ------    --------------  -----  \n",
      " 0   age       1338 non-null   int64  \n",
      " 1   sex       1338 non-null   object \n",
      " 2   bmi       1338 non-null   float64\n",
      " 3   children  1338 non-null   int64  \n",
      " 4   smoker    1338 non-null   object \n",
      " 5   region    1338 non-null   object \n",
      " 6   charges   1338 non-null   float64\n",
      "dtypes: float64(2), int64(2), object(3)\n",
      "memory usage: 73.3+ KB\n"
     ]
    }
   ],
   "source": [
    "i.info()"
   ]
  },
  {
   "cell_type": "code",
   "execution_count": 5,
   "id": "8e921f70",
   "metadata": {},
   "outputs": [
    {
     "name": "stdout",
     "output_type": "stream",
     "text": [
      "['female' 'male']\n",
      "['yes' 'no']\n",
      "['southwest' 'southeast' 'northwest' 'northeast']\n"
     ]
    }
   ],
   "source": [
    "print(i[\"sex\"].unique())\n",
    "print(i[\"smoker\"].unique())\n",
    "print(i[\"region\"].unique())"
   ]
  },
  {
   "cell_type": "markdown",
   "id": "376ee946",
   "metadata": {},
   "source": [
    "# encoding of categorical data:"
   ]
  },
  {
   "cell_type": "code",
   "execution_count": 6,
   "id": "08aa1365",
   "metadata": {},
   "outputs": [
    {
     "data": {
      "text/html": [
       "<div>\n",
       "<style scoped>\n",
       "    .dataframe tbody tr th:only-of-type {\n",
       "        vertical-align: middle;\n",
       "    }\n",
       "\n",
       "    .dataframe tbody tr th {\n",
       "        vertical-align: top;\n",
       "    }\n",
       "\n",
       "    .dataframe thead th {\n",
       "        text-align: right;\n",
       "    }\n",
       "</style>\n",
       "<table border=\"1\" class=\"dataframe\">\n",
       "  <thead>\n",
       "    <tr style=\"text-align: right;\">\n",
       "      <th></th>\n",
       "      <th>age</th>\n",
       "      <th>sex</th>\n",
       "      <th>bmi</th>\n",
       "      <th>children</th>\n",
       "      <th>smoker</th>\n",
       "      <th>region</th>\n",
       "      <th>charges</th>\n",
       "    </tr>\n",
       "  </thead>\n",
       "  <tbody>\n",
       "    <tr>\n",
       "      <th>0</th>\n",
       "      <td>19</td>\n",
       "      <td>female</td>\n",
       "      <td>27.900</td>\n",
       "      <td>0</td>\n",
       "      <td>1</td>\n",
       "      <td>southwest</td>\n",
       "      <td>16884.92400</td>\n",
       "    </tr>\n",
       "    <tr>\n",
       "      <th>1</th>\n",
       "      <td>18</td>\n",
       "      <td>male</td>\n",
       "      <td>33.770</td>\n",
       "      <td>1</td>\n",
       "      <td>0</td>\n",
       "      <td>southeast</td>\n",
       "      <td>1725.55230</td>\n",
       "    </tr>\n",
       "    <tr>\n",
       "      <th>2</th>\n",
       "      <td>28</td>\n",
       "      <td>male</td>\n",
       "      <td>33.000</td>\n",
       "      <td>3</td>\n",
       "      <td>0</td>\n",
       "      <td>southeast</td>\n",
       "      <td>4449.46200</td>\n",
       "    </tr>\n",
       "    <tr>\n",
       "      <th>3</th>\n",
       "      <td>33</td>\n",
       "      <td>male</td>\n",
       "      <td>22.705</td>\n",
       "      <td>0</td>\n",
       "      <td>0</td>\n",
       "      <td>northwest</td>\n",
       "      <td>21984.47061</td>\n",
       "    </tr>\n",
       "    <tr>\n",
       "      <th>4</th>\n",
       "      <td>32</td>\n",
       "      <td>male</td>\n",
       "      <td>28.880</td>\n",
       "      <td>0</td>\n",
       "      <td>0</td>\n",
       "      <td>northwest</td>\n",
       "      <td>3866.85520</td>\n",
       "    </tr>\n",
       "  </tbody>\n",
       "</table>\n",
       "</div>"
      ],
      "text/plain": [
       "   age     sex     bmi  children  smoker     region      charges\n",
       "0   19  female  27.900         0       1  southwest  16884.92400\n",
       "1   18    male  33.770         1       0  southeast   1725.55230\n",
       "2   28    male  33.000         3       0  southeast   4449.46200\n",
       "3   33    male  22.705         0       0  northwest  21984.47061\n",
       "4   32    male  28.880         0       0  northwest   3866.85520"
      ]
     },
     "execution_count": 6,
     "metadata": {},
     "output_type": "execute_result"
    }
   ],
   "source": [
    "# using manual binary approach for smoker:\n",
    "# here i can use also the function but this is more simple approach:\n",
    "i[\"smoker\"] = i[\"smoker\"].apply(lambda x: 0 if x == \"no\" else 1)\n",
    "i.head()"
   ]
  },
  {
   "cell_type": "code",
   "execution_count": 7,
   "id": "7eb96c0b",
   "metadata": {},
   "outputs": [
    {
     "data": {
      "text/html": [
       "<div>\n",
       "<style scoped>\n",
       "    .dataframe tbody tr th:only-of-type {\n",
       "        vertical-align: middle;\n",
       "    }\n",
       "\n",
       "    .dataframe tbody tr th {\n",
       "        vertical-align: top;\n",
       "    }\n",
       "\n",
       "    .dataframe thead th {\n",
       "        text-align: right;\n",
       "    }\n",
       "</style>\n",
       "<table border=\"1\" class=\"dataframe\">\n",
       "  <thead>\n",
       "    <tr style=\"text-align: right;\">\n",
       "      <th></th>\n",
       "      <th>age</th>\n",
       "      <th>bmi</th>\n",
       "      <th>children</th>\n",
       "      <th>smoker</th>\n",
       "      <th>region</th>\n",
       "      <th>charges</th>\n",
       "      <th>sex_male</th>\n",
       "    </tr>\n",
       "  </thead>\n",
       "  <tbody>\n",
       "    <tr>\n",
       "      <th>0</th>\n",
       "      <td>19</td>\n",
       "      <td>27.900</td>\n",
       "      <td>0</td>\n",
       "      <td>1</td>\n",
       "      <td>southwest</td>\n",
       "      <td>16884.92400</td>\n",
       "      <td>0</td>\n",
       "    </tr>\n",
       "    <tr>\n",
       "      <th>1</th>\n",
       "      <td>18</td>\n",
       "      <td>33.770</td>\n",
       "      <td>1</td>\n",
       "      <td>0</td>\n",
       "      <td>southeast</td>\n",
       "      <td>1725.55230</td>\n",
       "      <td>1</td>\n",
       "    </tr>\n",
       "    <tr>\n",
       "      <th>2</th>\n",
       "      <td>28</td>\n",
       "      <td>33.000</td>\n",
       "      <td>3</td>\n",
       "      <td>0</td>\n",
       "      <td>southeast</td>\n",
       "      <td>4449.46200</td>\n",
       "      <td>1</td>\n",
       "    </tr>\n",
       "    <tr>\n",
       "      <th>3</th>\n",
       "      <td>33</td>\n",
       "      <td>22.705</td>\n",
       "      <td>0</td>\n",
       "      <td>0</td>\n",
       "      <td>northwest</td>\n",
       "      <td>21984.47061</td>\n",
       "      <td>1</td>\n",
       "    </tr>\n",
       "    <tr>\n",
       "      <th>4</th>\n",
       "      <td>32</td>\n",
       "      <td>28.880</td>\n",
       "      <td>0</td>\n",
       "      <td>0</td>\n",
       "      <td>northwest</td>\n",
       "      <td>3866.85520</td>\n",
       "      <td>1</td>\n",
       "    </tr>\n",
       "  </tbody>\n",
       "</table>\n",
       "</div>"
      ],
      "text/plain": [
       "   age     bmi  children  smoker     region      charges  sex_male\n",
       "0   19  27.900         0       1  southwest  16884.92400         0\n",
       "1   18  33.770         1       0  southeast   1725.55230         1\n",
       "2   28  33.000         3       0  southeast   4449.46200         1\n",
       "3   33  22.705         0       0  northwest  21984.47061         1\n",
       "4   32  28.880         0       0  northwest   3866.85520         1"
      ]
     },
     "execution_count": 7,
     "metadata": {},
     "output_type": "execute_result"
    }
   ],
   "source": [
    "# using one hot encoding for sex - also halp manual approach:\n",
    "i = pd.get_dummies(i, columns = [\"sex\"], drop_first = True)\n",
    "i.head()"
   ]
  },
  {
   "cell_type": "code",
   "execution_count": 8,
   "id": "37c20d36",
   "metadata": {},
   "outputs": [
    {
     "data": {
      "text/html": [
       "<div>\n",
       "<style scoped>\n",
       "    .dataframe tbody tr th:only-of-type {\n",
       "        vertical-align: middle;\n",
       "    }\n",
       "\n",
       "    .dataframe tbody tr th {\n",
       "        vertical-align: top;\n",
       "    }\n",
       "\n",
       "    .dataframe thead th {\n",
       "        text-align: right;\n",
       "    }\n",
       "</style>\n",
       "<table border=\"1\" class=\"dataframe\">\n",
       "  <thead>\n",
       "    <tr style=\"text-align: right;\">\n",
       "      <th></th>\n",
       "      <th>age</th>\n",
       "      <th>bmi</th>\n",
       "      <th>children</th>\n",
       "      <th>smoker</th>\n",
       "      <th>region</th>\n",
       "      <th>charges</th>\n",
       "      <th>sex_male</th>\n",
       "    </tr>\n",
       "  </thead>\n",
       "  <tbody>\n",
       "    <tr>\n",
       "      <th>0</th>\n",
       "      <td>19</td>\n",
       "      <td>27.900</td>\n",
       "      <td>0</td>\n",
       "      <td>1</td>\n",
       "      <td>3</td>\n",
       "      <td>16884.92400</td>\n",
       "      <td>0</td>\n",
       "    </tr>\n",
       "    <tr>\n",
       "      <th>1</th>\n",
       "      <td>18</td>\n",
       "      <td>33.770</td>\n",
       "      <td>1</td>\n",
       "      <td>0</td>\n",
       "      <td>2</td>\n",
       "      <td>1725.55230</td>\n",
       "      <td>1</td>\n",
       "    </tr>\n",
       "    <tr>\n",
       "      <th>2</th>\n",
       "      <td>28</td>\n",
       "      <td>33.000</td>\n",
       "      <td>3</td>\n",
       "      <td>0</td>\n",
       "      <td>2</td>\n",
       "      <td>4449.46200</td>\n",
       "      <td>1</td>\n",
       "    </tr>\n",
       "    <tr>\n",
       "      <th>3</th>\n",
       "      <td>33</td>\n",
       "      <td>22.705</td>\n",
       "      <td>0</td>\n",
       "      <td>0</td>\n",
       "      <td>1</td>\n",
       "      <td>21984.47061</td>\n",
       "      <td>1</td>\n",
       "    </tr>\n",
       "    <tr>\n",
       "      <th>4</th>\n",
       "      <td>32</td>\n",
       "      <td>28.880</td>\n",
       "      <td>0</td>\n",
       "      <td>0</td>\n",
       "      <td>1</td>\n",
       "      <td>3866.85520</td>\n",
       "      <td>1</td>\n",
       "    </tr>\n",
       "  </tbody>\n",
       "</table>\n",
       "</div>"
      ],
      "text/plain": [
       "   age     bmi  children  smoker  region      charges  sex_male\n",
       "0   19  27.900         0       1       3  16884.92400         0\n",
       "1   18  33.770         1       0       2   1725.55230         1\n",
       "2   28  33.000         3       0       2   4449.46200         1\n",
       "3   33  22.705         0       0       1  21984.47061         1\n",
       "4   32  28.880         0       0       1   3866.85520         1"
      ]
     },
     "execution_count": 8,
     "metadata": {},
     "output_type": "execute_result"
    }
   ],
   "source": [
    "# using ordinal encoder with a library!\n",
    "from sklearn.preprocessing import OrdinalEncoder as oe\n",
    "\n",
    "# function for ordinal encoder\n",
    "def ordinal_encode(df, col):\n",
    "    oeo = oe()\n",
    "    col_to_encode = df[col]\n",
    "    col_to_encode_2d = col_to_encode.values.reshape(-1, 1)\n",
    "    encoded = oeo.fit_transform(col_to_encode_2d)\n",
    "    df[col] = encoded\n",
    "    df[col] = (\n",
    "        df[col].apply(lambda x: int(x)))\n",
    "    return df\n",
    "\n",
    "# calling the function:\n",
    "i = ordinal_encode(i, \"region\")\n",
    "i.head()"
   ]
  },
  {
   "cell_type": "markdown",
   "id": "0d0c9c25",
   "metadata": {},
   "source": [
    "# rearange and corr:"
   ]
  },
  {
   "cell_type": "code",
   "execution_count": 9,
   "id": "644d322b",
   "metadata": {},
   "outputs": [
    {
     "data": {
      "text/html": [
       "<div>\n",
       "<style scoped>\n",
       "    .dataframe tbody tr th:only-of-type {\n",
       "        vertical-align: middle;\n",
       "    }\n",
       "\n",
       "    .dataframe tbody tr th {\n",
       "        vertical-align: top;\n",
       "    }\n",
       "\n",
       "    .dataframe thead th {\n",
       "        text-align: right;\n",
       "    }\n",
       "</style>\n",
       "<table border=\"1\" class=\"dataframe\">\n",
       "  <thead>\n",
       "    <tr style=\"text-align: right;\">\n",
       "      <th></th>\n",
       "      <th>age</th>\n",
       "      <th>bmi</th>\n",
       "      <th>children</th>\n",
       "      <th>smoker</th>\n",
       "      <th>region</th>\n",
       "      <th>sex_male</th>\n",
       "      <th>charges</th>\n",
       "    </tr>\n",
       "  </thead>\n",
       "  <tbody>\n",
       "    <tr>\n",
       "      <th>0</th>\n",
       "      <td>19</td>\n",
       "      <td>27.900</td>\n",
       "      <td>0</td>\n",
       "      <td>1</td>\n",
       "      <td>3</td>\n",
       "      <td>0</td>\n",
       "      <td>16884.92400</td>\n",
       "    </tr>\n",
       "    <tr>\n",
       "      <th>1</th>\n",
       "      <td>18</td>\n",
       "      <td>33.770</td>\n",
       "      <td>1</td>\n",
       "      <td>0</td>\n",
       "      <td>2</td>\n",
       "      <td>1</td>\n",
       "      <td>1725.55230</td>\n",
       "    </tr>\n",
       "    <tr>\n",
       "      <th>2</th>\n",
       "      <td>28</td>\n",
       "      <td>33.000</td>\n",
       "      <td>3</td>\n",
       "      <td>0</td>\n",
       "      <td>2</td>\n",
       "      <td>1</td>\n",
       "      <td>4449.46200</td>\n",
       "    </tr>\n",
       "    <tr>\n",
       "      <th>3</th>\n",
       "      <td>33</td>\n",
       "      <td>22.705</td>\n",
       "      <td>0</td>\n",
       "      <td>0</td>\n",
       "      <td>1</td>\n",
       "      <td>1</td>\n",
       "      <td>21984.47061</td>\n",
       "    </tr>\n",
       "    <tr>\n",
       "      <th>4</th>\n",
       "      <td>32</td>\n",
       "      <td>28.880</td>\n",
       "      <td>0</td>\n",
       "      <td>0</td>\n",
       "      <td>1</td>\n",
       "      <td>1</td>\n",
       "      <td>3866.85520</td>\n",
       "    </tr>\n",
       "  </tbody>\n",
       "</table>\n",
       "</div>"
      ],
      "text/plain": [
       "   age     bmi  children  smoker  region  sex_male      charges\n",
       "0   19  27.900         0       1       3         0  16884.92400\n",
       "1   18  33.770         1       0       2         1   1725.55230\n",
       "2   28  33.000         3       0       2         1   4449.46200\n",
       "3   33  22.705         0       0       1         1  21984.47061\n",
       "4   32  28.880         0       0       1         1   3866.85520"
      ]
     },
     "execution_count": 9,
     "metadata": {},
     "output_type": "execute_result"
    }
   ],
   "source": [
    "# rearange columns:\n",
    "c_stay = i.columns[0:5].to_list()\n",
    "final_cols = c_stay + [\"sex_male\", \"charges\"]\n",
    "i = i[final_cols]\n",
    "i.head()"
   ]
  },
  {
   "cell_type": "code",
   "execution_count": 10,
   "id": "40c4b063",
   "metadata": {},
   "outputs": [
    {
     "data": {
      "text/plain": [
       "smoker      78.73\n",
       "age         29.90\n",
       "bmi         19.83\n",
       "children     6.80\n",
       "sex_male     5.73\n",
       "region      -0.62\n",
       "Name: charges, dtype: float64"
      ]
     },
     "execution_count": 10,
     "metadata": {},
     "output_type": "execute_result"
    }
   ],
   "source": [
    "# corr!\n",
    "# smoking and age has a biggest correlation with target label!\n",
    "corr = (\n",
    "    i.corr().\n",
    "    iloc[0:6].\n",
    "    iloc[:, -1].\n",
    "    sort_values(ascending = False) * 100\n",
    ")\n",
    "\n",
    "corr.apply(lambda x: np.round(x, 2))"
   ]
  },
  {
   "cell_type": "markdown",
   "id": "8add17f8",
   "metadata": {},
   "source": [
    "# plotting:"
   ]
  },
  {
   "cell_type": "code",
   "execution_count": 11,
   "id": "d95b7bc1",
   "metadata": {},
   "outputs": [
    {
     "data": {
      "text/plain": [
       "<AxesSubplot: >"
      ]
     },
     "execution_count": 11,
     "metadata": {},
     "output_type": "execute_result"
    },
    {
     "data": {
      "image/png": "[encoded data removed]",
      "text/plain": [
       "<Figure size 640x480 with 1 Axes>"
      ]
     },
     "metadata": {},
     "output_type": "display_data"
    }
   ],
   "source": [
    "# visualize correlation:\n",
    "corr.plot(kind = \"bar\")"
   ]
  },
  {
   "cell_type": "code",
   "execution_count": 12,
   "id": "ac4a7a26",
   "metadata": {},
   "outputs": [
    {
     "data": {
      "image/png": "[encoded data removed]",
      "text/plain": [
       "<Figure size 1600x600 with 6 Axes>"
      ]
     },
     "metadata": {},
     "output_type": "display_data"
    }
   ],
   "source": [
    "# plot side by side all features comparing it with target label:\n",
    "target = i.columns[-1]\n",
    "feature_columns = i.columns[i.columns != target]\n",
    "# Set up subplots\n",
    "num_plots = len(feature_columns)\n",
    "fig, axes = plt.subplots(1, num_plots, figsize=(16, 6))\n",
    "# Plot each column against 'charges' in a separate subplot\n",
    "for a, feature_column in enumerate(feature_columns):\n",
    "    axes[a].scatter(x=i[feature_column], y=i[target])\n",
    "    axes[a].set_title(f\"{feature_column} vs \" + target)\n",
    "    axes[a].set_xlabel(feature_column)\n",
    "    axes[a].set_ylabel(target)\n",
    "plt.tight_layout()\n",
    "plt.show()"
   ]
  },
  {
   "cell_type": "markdown",
   "id": "eb606344",
   "metadata": {},
   "source": [
    "## using SVR with kernel:"
   ]
  },
  {
   "cell_type": "code",
   "execution_count": 13,
   "id": "de7e8f00",
   "metadata": {},
   "outputs": [],
   "source": [
    "# machine learning modules/libraries:\n",
    "from sklearn.model_selection import train_test_split\n",
    "from sklearn.preprocessing import StandardScaler\n",
    "from sklearn.svm import SVR\n",
    "from sklearn.svm import LinearSVR\n",
    "from sklearn.metrics import r2_score, mean_squared_error"
   ]
  },
  {
   "cell_type": "code",
   "execution_count": 14,
   "id": "5907e848",
   "metadata": {},
   "outputs": [],
   "source": [
    "# setup the data:\n",
    "X = i.iloc[:, :-1] # as all features\n",
    "# X = i.iloc[:, 0:4] # as correlated features only\n",
    "y = i[[\"charges\"]] # as target label"
   ]
  },
  {
   "cell_type": "code",
   "execution_count": 15,
   "id": "de568bf8",
   "metadata": {},
   "outputs": [],
   "source": [
    "# split the data:\n",
    "X_train, X_test, y_train, y_test = (\n",
    "    train_test_split(X, y, test_size = 0.2, random_state = 0))"
   ]
  },
  {
   "cell_type": "code",
   "execution_count": 16,
   "id": "b85ea99c",
   "metadata": {},
   "outputs": [],
   "source": [
    "# scaling the data!\n",
    "scaler = StandardScaler()\n",
    "X_norm_train = scaler.fit_transform(X_train)\n",
    "X_norm_test = scaler.fit_transform(X_test)"
   ]
  },
  {
   "cell_type": "code",
   "execution_count": null,
   "id": "98023bbd",
   "metadata": {},
   "outputs": [],
   "source": [
    "# using kernel:\n",
    "svr = SVR(kernel = \"poly\", degree = 2, C = 2500)\n",
    "svr.fit(X_norm_train, y_train)"
   ]
  },
  {
   "cell_type": "code",
   "execution_count": null,
   "id": "9dbd37ab",
   "metadata": {},
   "outputs": [],
   "source": [
    "# predict:\n",
    "y_pred = svr.predict(X_norm_test)\n",
    "y_pred = np.round_(y_pred, decimals = 2)"
   ]
  },
  {
   "cell_type": "code",
   "execution_count": null,
   "id": "6168004e",
   "metadata": {},
   "outputs": [],
   "source": [
    "# assess the performance and accuracy of the model (y_test and y_pred):\n",
    "mean_er = np.round(mean_squared_error(y_test, y_pred), 2)\n",
    "r2 = np.round(r2_score(y_test, y_pred), 2)\n",
    "print(\"Mean Squared Error is: \", mean_er) # from 0 to infinity and lower the better\n",
    "print(\"R Square is: \", r2) # between 0 and 1 and closer to 1 is better"
   ]
  },
  {
   "cell_type": "markdown",
   "id": "60872731",
   "metadata": {},
   "source": [
    "# fine tune parameters to find best ones:"
   ]
  },
  {
   "cell_type": "code",
   "execution_count": 17,
   "id": "37e4f76e",
   "metadata": {},
   "outputs": [],
   "source": [
    "# import GridSearchCV\n",
    "from sklearn.model_selection import GridSearchCV\n",
    "\n",
    "# import SVC classifier\n",
    "from sklearn.svm import SVR\n",
    "\n",
    "# instantiate classifier with default hyperparameters with kernel=rbf, C=1.0 and gamma=auto\n",
    "svr = SVR()"
   ]
  },
  {
   "cell_type": "code",
   "execution_count": 18,
   "id": "ee262ff6",
   "metadata": {},
   "outputs": [],
   "source": [
    "parameters = [ {\"C\":[1, 10, 100, 1000, 3000, 5000], \"kernel\":[\"linear\"]},\n",
    "               {\"C\":[1, 10, 100, 1000, 3000, 5000], \"kernel\":[\"rbf\"], \"gamma\":[0.1, 0.2, 0.3, 0.4, 0.5, 0.6, 0.7, 0.8, 0.9]},\n",
    "               {\"C\":[1, 10, 100, 1000, 3000, 5000], \"kernel\":[\"poly\"], \"degree\": [2,3,4] , \"gamma\":[0.01,0.02,0.03,0.04,0.05]} \n",
    "              ]"
   ]
  },
  {
   "cell_type": "code",
   "execution_count": 19,
   "id": "fd982621",
   "metadata": {},
   "outputs": [],
   "source": [
    "grid_search = (\n",
    "    GridSearchCV(estimator = svr,\n",
    "                 param_grid = parameters,\n",
    "                 cv = 5,\n",
    "                 n_jobs = -1,\n",
    "                 scoring = \"neg_mean_squared_error\",\n",
    "                 verbose = 2,\n",
    "                 refit = True))"
   ]
  },
  {
   "cell_type": "code",
   "execution_count": 20,
   "id": "2f730342",
   "metadata": {},
   "outputs": [
    {
     "name": "stdout",
     "output_type": "stream",
     "text": [
      "Fitting 5 folds for each of 150 candidates, totalling 750 fits\n"
     ]
    },
    {
     "name": "stderr",
     "output_type": "stream",
     "text": [
      "C:\\Users\\A427443\\Anaconda3\\lib\\site-packages\\sklearn\\utils\\validation.py:1143: DataConversionWarning: A column-vector y was passed when a 1d array was expected. Please change the shape of y to (n_samples, ), for example using ravel().\n",
      "  y = column_or_1d(y, warn=True)\n"
     ]
    },
    {
     "name": "stdout",
     "output_type": "stream",
     "text": [
      "Best Parameters:  {'C': 5000, 'gamma': 0.1, 'kernel': 'rbf'}\n",
      "Best Score:  -26446887.059803806\n"
     ]
    }
   ],
   "source": [
    "# Fit the grid search to the data\n",
    "grid_search.fit(X_norm_train, y_train)\n",
    "\n",
    "# Print the best parameters and best score\n",
    "print(\"Best Parameters: \", grid_search.best_params_)\n",
    "print(\"Best Score: \", grid_search.best_score_)"
   ]
  },
  {
   "cell_type": "markdown",
   "id": "79dd0ae6",
   "metadata": {},
   "source": [
    "# I -> using pure LinerRegression():"
   ]
  },
  {
   "cell_type": "code",
   "execution_count": null,
   "id": "29515305",
   "metadata": {},
   "outputs": [],
   "source": [
    "# main modules for this section:\n",
    "from sklearn.model_selection import train_test_split\n",
    "from sklearn.preprocessing import StandardScaler\n",
    "from sklearn.linear_model import LinearRegression\n",
    "from sklearn.metrics import r2_score, mean_squared_error"
   ]
  },
  {
   "cell_type": "code",
   "execution_count": null,
   "id": "5d14f181",
   "metadata": {},
   "outputs": [],
   "source": [
    "# setup the data:\n",
    "X = i.iloc[:, :-1] # as all features\n",
    "# X = i.iloc[:, 0:4] # as correlated features only\n",
    "y = i[[\"charges\"]] # as target label"
   ]
  },
  {
   "cell_type": "code",
   "execution_count": null,
   "id": "f8302d0a",
   "metadata": {},
   "outputs": [],
   "source": [
    "# split the data:\n",
    "X_train, X_test, y_train, y_test = (\n",
    "    train_test_split(X, y, test_size = 0.2, random_state = 0))"
   ]
  },
  {
   "cell_type": "code",
   "execution_count": null,
   "id": "b4f242e0",
   "metadata": {},
   "outputs": [],
   "source": [
    "# scaling the data!\n",
    "scaler = StandardScaler()\n",
    "X_norm_train = scaler.fit_transform(X_train)\n",
    "X_norm_test = scaler.fit_transform(X_test)"
   ]
  },
  {
   "cell_type": "code",
   "execution_count": null,
   "id": "a79ac86c",
   "metadata": {},
   "outputs": [],
   "source": [
    "# model creation using LinearRegression():\n",
    "model = LinearRegression()\n",
    "model.fit(X_norm_train, y_train)"
   ]
  },
  {
   "cell_type": "code",
   "execution_count": null,
   "id": "b581308a",
   "metadata": {},
   "outputs": [],
   "source": [
    "# prediction:\n",
    "y_pred = model.predict(X_norm_test)"
   ]
  },
  {
   "cell_type": "code",
   "execution_count": null,
   "id": "4717a2ca",
   "metadata": {},
   "outputs": [],
   "source": [
    "# assess the performance and accuracy of the model (y_test and y_pred):\n",
    "mean_er = np.round(mean_squared_error(y_test, y_pred), 2)\n",
    "r2 = np.round(r2_score(y_test, y_pred), 2)\n",
    "print(\"Mean Squared Error is: \", mean_er) # from 0 to infinity and lower the better\n",
    "print(\"R Square is: \", r2) # between 0 and 1 and closer to 1 is better"
   ]
  },
  {
   "cell_type": "code",
   "execution_count": null,
   "id": "f41e94c9",
   "metadata": {},
   "outputs": [],
   "source": []
  },
  {
   "cell_type": "markdown",
   "id": "2b57fdc0",
   "metadata": {},
   "source": [
    "# II -> PolynomialFeatures()"
   ]
  },
  {
   "cell_type": "code",
   "execution_count": null,
   "id": "cee91326",
   "metadata": {},
   "outputs": [],
   "source": [
    "# main modules for this section:\n",
    "from sklearn.linear_model import LinearRegression\n",
    "from sklearn.preprocessing import PolynomialFeatures\n",
    "from sklearn.model_selection import train_test_split\n",
    "from sklearn.preprocessing import StandardScaler\n",
    "from sklearn.metrics import r2_score, mean_squared_error"
   ]
  },
  {
   "cell_type": "code",
   "execution_count": null,
   "id": "00f512de",
   "metadata": {},
   "outputs": [],
   "source": [
    "# setup the data:\n",
    "# X = i.iloc[:, :-1] # as all features\n",
    "X = i.iloc[:, 0:4] # correlated features only\n",
    "y = i[[\"charges\"]] # as target label"
   ]
  },
  {
   "cell_type": "code",
   "execution_count": null,
   "id": "c73d96f6",
   "metadata": {},
   "outputs": [],
   "source": [
    "# preselect polynomial:\n",
    "pol = PolynomialFeatures(degree = 2)\n",
    "X_pol = pol.fit_transform(X)"
   ]
  },
  {
   "cell_type": "code",
   "execution_count": null,
   "id": "3e335217",
   "metadata": {},
   "outputs": [],
   "source": [
    "# split the data\n",
    "X_train, X_test, y_train, y_test = (\n",
    "    train_test_split(X_pol, y, test_size = 0.2, random_state = 0)\n",
    ")"
   ]
  },
  {
   "cell_type": "code",
   "execution_count": null,
   "id": "320de541",
   "metadata": {},
   "outputs": [],
   "source": [
    "# scaling the data:\n",
    "scaler = StandardScaler()\n",
    "X_norm_train = scaler.fit_transform(X_train)\n",
    "X_norm_test = scaler.fit_transform(X_test)"
   ]
  },
  {
   "cell_type": "code",
   "execution_count": null,
   "id": "53fd5a69",
   "metadata": {},
   "outputs": [],
   "source": [
    "# train the model:\n",
    "model = LinearRegression()\n",
    "model.fit(X_norm_train, y_train)"
   ]
  },
  {
   "cell_type": "code",
   "execution_count": null,
   "id": "0fa27b65",
   "metadata": {},
   "outputs": [],
   "source": [
    "# prediction:\n",
    "y_pred = model.predict(X_norm_test)"
   ]
  },
  {
   "cell_type": "code",
   "execution_count": null,
   "id": "ab2e5a2b",
   "metadata": {},
   "outputs": [],
   "source": [
    "# assess the performance and accuracy of the model (y_test and y_pred):\n",
    "mean_er = np.round(mean_squared_error(y_test, y_pred), 2)\n",
    "r2 = np.round(r2_score(y_test, y_pred), 2)\n",
    "print(\"Mean Squared Error is: \", mean_er) # from 0 to infinity and lower the better\n",
    "print(\"R Square is: \", r2) # between 0 and 1 and closer to 1 is better"
   ]
  },
  {
   "cell_type": "code",
   "execution_count": null,
   "id": "0edde4a3",
   "metadata": {},
   "outputs": [],
   "source": [
    "# convert y_test into a numpy array:\n",
    "real_results = y_test.iloc[:, -1].values\n",
    "predicted_results = y_pred.ravel()"
   ]
  },
  {
   "cell_type": "code",
   "execution_count": null,
   "id": "a17c613d",
   "metadata": {},
   "outputs": [],
   "source": [
    "# more detailed comparison:\n",
    "plt.scatter(range(len(real_results)),\n",
    "            real_results, marker = \"o\",\n",
    "            c = \"orange\",\n",
    "            alpha = 0.5,\n",
    "            label = 'Real Results')\n",
    "\n",
    "plt.scatter(range(len(predicted_results)),\n",
    "            predicted_results,\n",
    "            marker = \"o\",\n",
    "            c = \"purple\",\n",
    "            alpha = 0.5,\n",
    "            label = \"Predicted Results\")\n",
    "plt.legend()\n",
    "plt.show()"
   ]
  },
  {
   "cell_type": "code",
   "execution_count": null,
   "id": "e449dd5c",
   "metadata": {},
   "outputs": [],
   "source": [
    "# comparison II approach:\n",
    "final_df = pd.DataFrame(\n",
    "    {\"Actual performance\": real_results,\n",
    "     \"Predicted Performance\": predicted_results})\n",
    "\n",
    "# function for comparison:\n",
    "def compute_difference(col):\n",
    "    x = col[\"Actual performance\"]\n",
    "    y = col[\"Predicted Performance\"]\n",
    "    if x > y:\n",
    "        return x - y\n",
    "    else:\n",
    "        return y - x\n",
    "    \n",
    "# apply the function:\n",
    "final_df[\"Difference\"] = final_df.apply(compute_difference, axis = 1)\n",
    "final_df.head()"
   ]
  },
  {
   "cell_type": "code",
   "execution_count": null,
   "id": "425f116b",
   "metadata": {},
   "outputs": [],
   "source": [
    "# final comparison as average of diff:\n",
    "mn = round(final_df[\"Difference\"].mean(), 2)\n",
    "print(f\"Average difference value: {mn}\")"
   ]
  },
  {
   "cell_type": "raw",
   "id": "c09350d6",
   "metadata": {},
   "source": [
    "NOTES:\n",
    "\n",
    "- I have used several approaches: pure LinearRegression(), SGD() and LinearRegression() with PolynomialFeatures()\n",
    "\n",
    "- Pure one and SGD with same results: accuracy 0.80 and MSE as 31894433.91, where third approach has accuracy of 0.88 and MSE with 19384129.97\n",
    "\n",
    "- Third approach using second degree of polynomial features has resulted with best accuracy and performance\n",
    "\n",
    "The R2 value is an indicator of how well your model explains the variability in the data, and higher values are better (from 0 to 1)\n",
    "\n",
    "- The MSE is a measure of prediction accuracy, and lower values are preferred (from 1 to infinity)\n",
    "\n",
    "- Feature engineering didnt help a lot in this case for all cases!\n",
    "\n",
    "- Final comment:\n",
    "- Most of the columns doesent have linearity (non linear relationships) with a target label, therefore no correlation and from that overview best approach would be the usage of polynomial as the results showed that polynomial features presented the best result"
   ]
  }
 ],
 "metadata": {
  "kernelspec": {
   "display_name": "Python 3 (ipykernel)",
   "language": "python",
   "name": "python3"
  },
  "language_info": {
   "codemirror_mode": {
    "name": "ipython",
    "version": 3
   },
   "file_extension": ".py",
   "mimetype": "text/x-python",
   "name": "python",
   "nbconvert_exporter": "python",
   "pygments_lexer": "ipython3",
   "version": "3.8.8"
  }
 },
 "nbformat": 4,
 "nbformat_minor": 5
}
